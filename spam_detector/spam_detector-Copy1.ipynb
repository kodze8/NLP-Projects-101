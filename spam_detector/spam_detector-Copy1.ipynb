{
 "cells": [
  {
   "cell_type": "markdown",
   "id": "7a8c1e19",
   "metadata": {},
   "source": [
    "# Spam real message classifier\n",
    "###### simple probabilistic classification of spam and real messages using a basic word occurrence-based approach"
   ]
  },
  {
   "cell_type": "code",
   "execution_count": 48,
   "id": "2e226f69",
   "metadata": {},
   "outputs": [],
   "source": [
    "import math  \n",
    "import numpy as np  \n",
    "from collections import Counter  \n",
    "import pandas as pd  \n",
    "import os"
   ]
  },
  {
   "cell_type": "code",
   "execution_count": 49,
   "id": "f9343e86",
   "metadata": {},
   "outputs": [
    {
     "data": {
      "text/html": [
       "<div>\n",
       "<style scoped>\n",
       "    .dataframe tbody tr th:only-of-type {\n",
       "        vertical-align: middle;\n",
       "    }\n",
       "\n",
       "    .dataframe tbody tr th {\n",
       "        vertical-align: top;\n",
       "    }\n",
       "\n",
       "    .dataframe thead th {\n",
       "        text-align: right;\n",
       "    }\n",
       "</style>\n",
       "<table border=\"1\" class=\"dataframe\">\n",
       "  <thead>\n",
       "    <tr style=\"text-align: right;\">\n",
       "      <th></th>\n",
       "      <th>v1</th>\n",
       "      <th>v2</th>\n",
       "      <th>Unnamed: 2</th>\n",
       "      <th>Unnamed: 3</th>\n",
       "      <th>Unnamed: 4</th>\n",
       "    </tr>\n",
       "  </thead>\n",
       "  <tbody>\n",
       "    <tr>\n",
       "      <th>0</th>\n",
       "      <td>ham</td>\n",
       "      <td>Go until jurong point, crazy.. Available only ...</td>\n",
       "      <td>NaN</td>\n",
       "      <td>NaN</td>\n",
       "      <td>NaN</td>\n",
       "    </tr>\n",
       "    <tr>\n",
       "      <th>1</th>\n",
       "      <td>ham</td>\n",
       "      <td>Ok lar... Joking wif u oni...</td>\n",
       "      <td>NaN</td>\n",
       "      <td>NaN</td>\n",
       "      <td>NaN</td>\n",
       "    </tr>\n",
       "    <tr>\n",
       "      <th>2</th>\n",
       "      <td>spam</td>\n",
       "      <td>Free entry in 2 a wkly comp to win FA Cup fina...</td>\n",
       "      <td>NaN</td>\n",
       "      <td>NaN</td>\n",
       "      <td>NaN</td>\n",
       "    </tr>\n",
       "    <tr>\n",
       "      <th>3</th>\n",
       "      <td>ham</td>\n",
       "      <td>U dun say so early hor... U c already then say...</td>\n",
       "      <td>NaN</td>\n",
       "      <td>NaN</td>\n",
       "      <td>NaN</td>\n",
       "    </tr>\n",
       "    <tr>\n",
       "      <th>4</th>\n",
       "      <td>ham</td>\n",
       "      <td>Nah I don't think he goes to usf, he lives aro...</td>\n",
       "      <td>NaN</td>\n",
       "      <td>NaN</td>\n",
       "      <td>NaN</td>\n",
       "    </tr>\n",
       "  </tbody>\n",
       "</table>\n",
       "</div>"
      ],
      "text/plain": [
       "     v1                                                 v2 Unnamed: 2  \\\n",
       "0   ham  Go until jurong point, crazy.. Available only ...        NaN   \n",
       "1   ham                      Ok lar... Joking wif u oni...        NaN   \n",
       "2  spam  Free entry in 2 a wkly comp to win FA Cup fina...        NaN   \n",
       "3   ham  U dun say so early hor... U c already then say...        NaN   \n",
       "4   ham  Nah I don't think he goes to usf, he lives aro...        NaN   \n",
       "\n",
       "  Unnamed: 3 Unnamed: 4  \n",
       "0        NaN        NaN  \n",
       "1        NaN        NaN  \n",
       "2        NaN        NaN  \n",
       "3        NaN        NaN  \n",
       "4        NaN        NaN  "
      ]
     },
     "execution_count": 49,
     "metadata": {},
     "output_type": "execute_result"
    }
   ],
   "source": [
    "# Read the CSV file \n",
    "current_file = os.getcwd()\n",
    "file_path = os.path.join(current_file, \"spam.csv\")\n",
    "data = pd.read_csv(file_path, encoding = \"ISO-8859-1\")\n",
    "data.head()"
   ]
  },
  {
   "cell_type": "code",
   "execution_count": 50,
   "id": "d579fa6b",
   "metadata": {},
   "outputs": [],
   "source": [
    "# Select only the first two columns of the dataset\n",
    "data = data.iloc[:, 0:2]\n",
    "\n",
    "# Convert the 'v1' column to binary encoding (1 for 'ham', 0 for 'spam')\n",
    "data[\"v1\"] = data[\"v1\"].apply(lambda x: 1 if x == \"ham\" else 0)"
   ]
  },
  {
   "cell_type": "code",
   "execution_count": 51,
   "id": "54109633",
   "metadata": {},
   "outputs": [],
   "source": [
    "\n",
    "# Extract real and spam sentences from the dataset for training and testing\n",
    "real_sentences = data[data[\"v1\"] == 1][\"v2\"]\n",
    "real_sentences_train = real_sentences[int(len(real_sentences)*0.3):]\n",
    "real_sentences_test = real_sentences[:int(len(real_sentences)*0.3)]\n",
    "\n",
    "spam_sentences = data[data[\"v1\"] == 0][\"v2\"]\n",
    "spam_sentences_train = spam_sentences[int(len(spam_sentences)*0.3):]\n",
    "spam_sentences_test = spam_sentences[:int(len(spam_sentences)*0.3)]\n"
   ]
  },
  {
   "cell_type": "code",
   "execution_count": 52,
   "id": "6917f0c1",
   "metadata": {},
   "outputs": [],
   "source": [
    "# Split sentences into individual words\n",
    "real_words = \" \".join(real_sentences_train).split(\" \")\n",
    "spam_words = \" \".join(spam_sentences_train).split(\" \")"
   ]
  },
  {
   "cell_type": "code",
   "execution_count": 53,
   "id": "74dbf990",
   "metadata": {},
   "outputs": [],
   "source": [
    "# Combine all words from real and spam sentences\n",
    "unified_words = real_words + spam_words\n",
    "\n",
    "# Find words that appear in both real and spam sentences\n",
    "intersection_words = set(real_words).intersection(set(spam_words))"
   ]
  },
  {
   "cell_type": "code",
   "execution_count": 54,
   "id": "a433126b",
   "metadata": {},
   "outputs": [],
   "source": [
    "# Count occurrences of words in real and spam sentences\n",
    "occurrences_real = dict(Counter(real_words))\n",
    "occurrences_spam = dict(Counter(spam_words))\n",
    "\n",
    "# Calculate probability of each word given that it is in a real or spam sentence\n",
    "prob_of_w_given_real = {x: y / len(real_words) for x, y in occurrences_real.items()}\n",
    "prob_of_w_given_spam = {x: y / len(spam_words) for x, y in occurrences_spam.items()}"
   ]
  },
  {
   "cell_type": "code",
   "execution_count": 55,
   "id": "6b683f46",
   "metadata": {},
   "outputs": [],
   "source": [
    "\n",
    "# Calculate the prior probabilities of real and spam sentences\n",
    "p_real = len(real_words) / (len(real_words) + len(spam_words))\n",
    "p_spam = len(spam_words) / (len(real_words) + len(spam_words))\n"
   ]
  },
  {
   "cell_type": "code",
   "execution_count": 56,
   "id": "4a762b45",
   "metadata": {},
   "outputs": [],
   "source": [
    "# Function to determine if a sentence is real or spam\n",
    "def sentence_is_real(sentence):\n",
    "    analyzed_words = [x for x in sentence.split(\" \") if x in intersection_words]\n",
    "\n",
    "    real_and_this_sentence = math.log(p_real)\n",
    "    real_and_this_sentence += sum([np.log(prob_of_w_given_real[x]) for x in analyzed_words])\n",
    "\n",
    "    spam_and_this_sentence = math.log(p_spam)\n",
    "    spam_and_this_sentence += sum([np.log(prob_of_w_given_spam[x]) for x in analyzed_words])\n",
    "\n",
    "    return real_and_this_sentence > spam_and_this_sentence"
   ]
  },
  {
   "cell_type": "code",
   "execution_count": 57,
   "id": "ad4804cf",
   "metadata": {},
   "outputs": [
    {
     "name": "stdout",
     "output_type": "stream",
     "text": [
      "0.9571527297857636 of words are correctly predicted as real\n"
     ]
    }
   ],
   "source": [
    "# Calculate accuracy for real sentences\n",
    "quantity = 0\n",
    "for x in real_sentences_test:\n",
    "    if sentence_is_real(x):\n",
    "        quantity += 1\n",
    "print(f\"{quantity / len(real_sentences_test)} of words are correctly predicted as real\")"
   ]
  },
  {
   "cell_type": "code",
   "execution_count": 58,
   "id": "9cbb7abe",
   "metadata": {},
   "outputs": [
    {
     "name": "stdout",
     "output_type": "stream",
     "text": [
      "0.8973214285714286 of words are correctly predicted as spam\n"
     ]
    }
   ],
   "source": [
    "# Calculate accuracy for spam sentences\n",
    "quantity = 0\n",
    "for x in spam_sentences_test:\n",
    "    if not sentence_is_real(x):\n",
    "        quantity += 1\n",
    "print(f\"{quantity / len(spam_sentences_test)} of words are correctly predicted as spam\")\n"
   ]
  }
 ],
 "metadata": {
  "kernelspec": {
   "display_name": "Python 3 (ipykernel)",
   "language": "python",
   "name": "python3"
  },
  "language_info": {
   "codemirror_mode": {
    "name": "ipython",
    "version": 3
   },
   "file_extension": ".py",
   "mimetype": "text/x-python",
   "name": "python",
   "nbconvert_exporter": "python",
   "pygments_lexer": "ipython3",
   "version": "3.11.4"
  }
 },
 "nbformat": 4,
 "nbformat_minor": 5
}

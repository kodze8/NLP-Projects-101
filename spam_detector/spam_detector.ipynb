{
 "cells": [
  {
   "cell_type": "code",
   "execution_count": 6,
   "id": "2e226f69",
   "metadata": {},
   "outputs": [],
   "source": [
    "import math  \n",
    "import numpy as np  \n",
    "from collections import Counter  \n",
    "import pandas as pd  \n",
    "import os"
   ]
  },
  {
   "cell_type": "code",
   "execution_count": 7,
   "id": "9cbb7abe",
   "metadata": {},
   "outputs": [
    {
     "name": "stdout",
     "output_type": "stream",
     "text": [
      "0.9571527297857636 of words are correctly predicted as real\n",
      "0.8973214285714286 of words are correctly predicted as spam\n"
     ]
    }
   ],
   "source": [
    "# Read the CSV file \n",
    "current_file = os.getcwd()\n",
    "file_path = os.path.join(current_file, \"spam.csv\")\n",
    "data = pd.read_csv(file_path, encoding = \"ISO-8859-1\")\n",
    "\n",
    "# Select only the first two columns of the dataset\n",
    "data = data.iloc[:, 0:2]\n",
    "\n",
    "# Convert the 'v1' column to binary encoding (1 for 'ham', 0 for 'spam')\n",
    "data[\"v1\"] = data[\"v1\"].apply(lambda x: 1 if x == \"ham\" else 0)\n",
    "\n",
    "# Extract real and spam sentences from the dataset for training and testing\n",
    "real_sentences = data[data[\"v1\"] == 1][\"v2\"]\n",
    "real_sentences_train = real_sentences[int(len(real_sentences)*0.3):]\n",
    "real_sentences_test = real_sentences[:int(len(real_sentences)*0.3)]\n",
    "\n",
    "spam_sentences = data[data[\"v1\"] == 0][\"v2\"]\n",
    "spam_sentences_train = spam_sentences[int(len(spam_sentences)*0.3):]\n",
    "spam_sentences_test = spam_sentences[:int(len(spam_sentences)*0.3)]\n",
    "\n",
    "# Split sentences into individual words\n",
    "real_words = \" \".join(real_sentences_train).split(\" \")\n",
    "spam_words = \" \".join(spam_sentences_train).split(\" \")\n",
    "\n",
    "# Combine all words from real and spam sentences\n",
    "unified_words = real_words + spam_words\n",
    "\n",
    "# Find words that appear in both real and spam sentences\n",
    "intersection_words = set(real_words).intersection(set(spam_words))\n",
    "\n",
    "# Count occurrences of words in real and spam sentences\n",
    "occurrences_real = dict(Counter(real_words))\n",
    "occurrences_spam = dict(Counter(spam_words))\n",
    "\n",
    "# Calculate probability of each word given that it is in a real or spam sentence\n",
    "prob_of_w_given_real = {x: y / len(real_words) for x, y in occurrences_real.items()}\n",
    "prob_of_w_given_spam = {x: y / len(spam_words) for x, y in occurrences_spam.items()}\n",
    "\n",
    "# Calculate the prior probabilities of real and spam sentences\n",
    "p_real = len(real_words) / (len(real_words) + len(spam_words))\n",
    "p_spam = len(spam_words) / (len(real_words) + len(spam_words))\n",
    "\n",
    "# Function to determine if a sentence is real or spam\n",
    "def sentence_is_real(sentence):\n",
    "    analyzed_words = [x for x in sentence.split(\" \") if x in intersection_words]\n",
    "\n",
    "    real_and_this_sentence = math.log(p_real)\n",
    "    real_and_this_sentence += sum([np.log(prob_of_w_given_real[x]) for x in analyzed_words])\n",
    "\n",
    "    spam_and_this_sentence = math.log(p_spam)\n",
    "    spam_and_this_sentence += sum([np.log(prob_of_w_given_spam[x]) for x in analyzed_words])\n",
    "\n",
    "    return real_and_this_sentence > spam_and_this_sentence\n",
    "\n",
    "# Calculate accuracy for real sentences\n",
    "quantity = 0\n",
    "for x in real_sentences_test:\n",
    "    if sentence_is_real(x):\n",
    "        quantity += 1\n",
    "print(f\"{quantity / len(real_sentences_test)} of words are correctly predicted as real\")\n",
    "\n",
    "# Calculate accuracy for spam sentences\n",
    "quantity = 0\n",
    "for x in spam_sentences_test:\n",
    "    if not sentence_is_real(x):\n",
    "        quantity += 1\n",
    "print(f\"{quantity / len(spam_sentences_test)} of words are correctly predicted as spam\")\n"
   ]
  },
  {
   "cell_type": "code",
   "execution_count": null,
   "id": "ff9bf103",
   "metadata": {},
   "outputs": [],
   "source": []
  }
 ],
 "metadata": {
  "kernelspec": {
   "display_name": "Python 3 (ipykernel)",
   "language": "python",
   "name": "python3"
  },
  "language_info": {
   "codemirror_mode": {
    "name": "ipython",
    "version": 3
   },
   "file_extension": ".py",
   "mimetype": "text/x-python",
   "name": "python",
   "nbconvert_exporter": "python",
   "pygments_lexer": "ipython3",
   "version": "3.11.4"
  }
 },
 "nbformat": 4,
 "nbformat_minor": 5
}
